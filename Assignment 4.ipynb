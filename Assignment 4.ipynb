{
 "cells": [
  {
   "cell_type": "markdown",
   "metadata": {},
   "source": [
    "# 1.1 Write a Python Program(with class concepts) to find the area of the triangle using the below  formula. area = (s*(s-a)*(s-b)*(s-c)) ** 0.5 Function to take the length of the sides of triangle from user should be defined in the parent  class and function to calculate the area should be defined in subclass. \n"
   ]
  },
  {
   "cell_type": "code",
   "execution_count": 1,
   "metadata": {},
   "outputs": [
    {
     "name": "stdout",
     "output_type": "stream",
     "text": [
      "Enter 1st side of triangle: 2\n",
      "Enter 2nd side of triangle: 3\n",
      "Enter 3rd side of triangle: 4\n",
      "4.21875\n"
     ]
    }
   ],
   "source": [
    "class triangle:\n",
    "    def __init__(self,x,y,z):\n",
    "        self.x = x\n",
    "        self.y = y\n",
    "        self.z = z\n",
    "class area(triangle):\n",
    "    def arr(self):\n",
    "        s = (self.x+self.y+self.z)/2\n",
    "        area  = (s*(s-self.x)*(s-self.y)*(s-self.z))*.5\n",
    "        return area\n",
    "a = int(input('Enter 1st side of triangle: '))\n",
    "b = int(input('Enter 2nd side of triangle: '))\n",
    "c = int(input('Enter 3rd side of triangle: '))\n",
    "tri = area(a,b,c)\n",
    "print(tri.arr())"
   ]
  },
  {
   "cell_type": "markdown",
   "metadata": {},
   "source": [
    "# 1.2 Write a function filter_long_words() that takes a list of words and an integer n and returns  the list of words that are longer than n. \n"
   ]
  },
  {
   "cell_type": "code",
   "execution_count": 2,
   "metadata": {},
   "outputs": [
    {
     "name": "stdout",
     "output_type": "stream",
     "text": [
      "['capital', 'India', 'Spiderman', 'Batman']\n"
     ]
    }
   ],
   "source": [
    "def filter_long_words(words,thres):\n",
    "    big_words = []\n",
    "    for word in words:\n",
    "        if len(word) > n:\n",
    "            big_words.append(word)\n",
    "    return big_words\n",
    "w = ['capital','bar','go','India','Spiderman','Batman']\n",
    "n = 3\n",
    "print(filter_long_words(w,n))"
   ]
  },
  {
   "cell_type": "markdown",
   "metadata": {},
   "source": [
    "# 2.1 Write a Python program using function concept that maps list of words into a list of integers  representing the lengths of the corresponding words. \n",
    "Hint: If a list [ ab,cde,erty] is passed on to the python function output should come as [2,3,4] Here 2,3 and 4 are the lengths of the words in the list. "
   ]
  },
  {
   "cell_type": "code",
   "execution_count": 3,
   "metadata": {},
   "outputs": [
    {
     "name": "stdout",
     "output_type": "stream",
     "text": [
      "[7, 3, 2, 5, 9, 6]\n"
     ]
    }
   ],
   "source": [
    "def concept(words):\n",
    "    len_words = []\n",
    "    for word in words:\n",
    "        len_words.append(len(word))\n",
    "    return len_words\n",
    "w = ['capital','bar','go','India','Spiderman','Batman']\n",
    "print(concept(w))"
   ]
  },
  {
   "cell_type": "markdown",
   "metadata": {},
   "source": [
    "# 2.2 Write a Python function which takes a character (i.e. a string of length 1) and returns True if  it is a vowel, False otherwise. \n"
   ]
  },
  {
   "cell_type": "code",
   "execution_count": 4,
   "metadata": {},
   "outputs": [
    {
     "name": "stdout",
     "output_type": "stream",
     "text": [
      "True\n",
      "False\n",
      "One letter please\n"
     ]
    }
   ],
   "source": [
    "def is_vowel(ch):\n",
    "    vow = ['a','e','i','o','u','A','E','I','O','U']\n",
    "    if ch in vow and len(ch)==1:\n",
    "        return True\n",
    "    elif ch not in vow and len(ch)==1:\n",
    "        return False\n",
    "    elif len(ch)>1:\n",
    "        return 'One letter please'\n",
    "print(is_vowel('a'))\n",
    "print(is_vowel('B'))\n",
    "print(is_vowel('DC'))"
   ]
  },
  {
   "cell_type": "code",
   "execution_count": null,
   "metadata": {},
   "outputs": [],
   "source": []
  }
 ],
 "metadata": {
  "kernelspec": {
   "display_name": "Python 3",
   "language": "python",
   "name": "python3"
  },
  "language_info": {
   "codemirror_mode": {
    "name": "ipython",
    "version": 3
   },
   "file_extension": ".py",
   "mimetype": "text/x-python",
   "name": "python",
   "nbconvert_exporter": "python",
   "pygments_lexer": "ipython3",
   "version": "3.7.6"
  }
 },
 "nbformat": 4,
 "nbformat_minor": 4
}
